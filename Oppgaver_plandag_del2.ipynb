{
 "cells": [
  {
   "cell_type": "code",
   "execution_count": null,
   "metadata": {},
   "outputs": [],
   "source": []
  },
  {
   "cell_type": "markdown",
   "metadata": {},
   "source": [
    "# If-setninger"
   ]
  },
  {
   "cell_type": "markdown",
   "metadata": {},
   "source": [
    "### Oppgave 1"
   ]
  },
  {
   "cell_type": "markdown",
   "metadata": {},
   "source": [
    "Et busselskap ønsker å automatisk beregne pris på billetter ut fra aldersinformasjon og reiserute hentet inn fra kunden. \n",
    "Priser for standard billetter:\n",
    "\n",
    "Rute 1 (By - Sjø): 150,-\n",
    "\n",
    "Rute 2 (Sjø - Fjell): 250,-\n",
    "\n",
    "Rute 3 (Fjell - By): 50,-\n",
    "\n",
    "\n",
    "\n",
    "Aldersrabatter:\n",
    "\n",
    "0-2: Gratis\n",
    "\n",
    "2-16: -50 % \n",
    "\n",
    "16-65: Standard pris\n",
    "\n",
    "65+: -70 %\n",
    "\n",
    "\n",
    "Skriv pseudokoden under som et python-program."
   ]
  },
  {
   "cell_type": "code",
   "execution_count": null,
   "metadata": {},
   "outputs": [],
   "source": [
    "## Dette programmet tar inn informasjon fra bruker om alder, rabattrettighet ut fra alder og reiserute, og\n",
    "## beregner pris på billett.\n",
    "\n",
    "# Spør bruker om reisestrekning: \n",
    "# 1 = By-Sjø\n",
    "# 2 = Sjø - Fjell\n",
    "# 3 = Fjell - By\n",
    "# Initier variabel \"pris\" til 0\n",
    "# Initier variabel \"totalsum\" til 0\n",
    "# Spør bruker om alder\n",
    "# Skriv oppgitt alder ut til bruker\n",
    "# Oppdater \"pris\": beregn rabattert pris ut fra alder og rute\n",
    "# Skriv ut standard pris, rabatt og sluttpris til bruker. Hvis brukeren ikke får rabatt skal dette også skrives ut."
   ]
  },
  {
   "cell_type": "code",
   "execution_count": null,
   "metadata": {},
   "outputs": [],
   "source": []
  },
  {
   "cell_type": "markdown",
   "metadata": {},
   "source": [
    "### Oppgave 2"
   ]
  },
  {
   "cell_type": "markdown",
   "metadata": {},
   "source": [
    "### Stein, saks eller papir?"
   ]
  },
  {
   "cell_type": "markdown",
   "metadata": {},
   "source": [
    "Skriv et program som tar inn et tilfeldig tall mellom 0-2 (0 = stein, 1 = saks, 2 = papir) fra random-biblioteket, og enten stein('st'), saks('sa') eller papir('p') fra bruker. Sammenlign valgene og sjekk hvem som vant ut fra følgende regler: \n",
    "\n",
    "Stein vs saks: stein vinner\n",
    "\n",
    "Stein vs papir: papir vinner\n",
    "\n",
    "Papir vs saks: saks vinner\n",
    "\n",
    "Ved samme valg er det uavgjort.\n",
    "\n",
    "\n",
    "\n",
    "Bruk if-elif-else for å skrive programmet. Skriv resultatet ut til konsoll."
   ]
  },
  {
   "cell_type": "code",
   "execution_count": null,
   "metadata": {},
   "outputs": [],
   "source": [
    "randtall = randint(0,3) # Hent et tilfeldig tall\n",
    "brukerskrift = input('Velg enten stein (st), saks (sa) eller papir (p): ')\n",
    "\n",
    "# Skriv resten av programmet her"
   ]
  },
  {
   "cell_type": "markdown",
   "metadata": {},
   "source": [
    "# Funksjoner"
   ]
  },
  {
   "cell_type": "markdown",
   "metadata": {},
   "source": [
    "### Oppgave 1"
   ]
  },
  {
   "cell_type": "markdown",
   "metadata": {},
   "source": [
    "Kjør koden under og prøv å forstå rekkefølgen funksjonene kjører i"
   ]
  },
  {
   "cell_type": "code",
   "execution_count": null,
   "metadata": {},
   "outputs": [],
   "source": [
    "def get_alder():\n",
    "    alder = input(\"Skriv alderen din: \")\n",
    "    print(alder)\n",
    "\n",
    "def main():\n",
    "    print(\"Hei\")\n",
    "    get_navn()\n",
    "    get_alder()\n",
    "    \n",
    "def get_navn():\n",
    "    navn = input(\"Skriv navnet ditt: \")\n",
    "    print(navn)\n",
    "\n",
    "main()"
   ]
  },
  {
   "cell_type": "markdown",
   "metadata": {},
   "source": [
    "Endre funksjonskallet til summen_av() slik at utskriften til koden blir: \"Summen av 10 + 90 er lik 100\". (Det er ikke viktig at \"Summen av 10 + 90 er lik\" og \"100\" er på samme linje i utskriften"
   ]
  },
  {
   "cell_type": "code",
   "execution_count": null,
   "metadata": {},
   "outputs": [],
   "source": [
    "def summen_av(num1, num2):\n",
    "    ### Skriv koden din under her\n",
    "    \n",
    "    \n",
    "    ### Skriv koden din over her\n",
    "\n",
    "def main():\n",
    "    print(\"Summen av 10 + 90 er lik, \")\n",
    "    summen_av(10, 90)\n",
    "    \n",
    "main()\n"
   ]
  },
  {
   "cell_type": "markdown",
   "metadata": {},
   "source": [
    "### Oppgave 3"
   ]
  },
  {
   "cell_type": "markdown",
   "metadata": {},
   "source": [
    "I denne oppgaven skal du lage ferdig en påbegynt kalkulator. Fullfør koden der hvor det er indikert med *** Fullfør ***"
   ]
  },
  {
   "cell_type": "code",
   "execution_count": 3,
   "metadata": {},
   "outputs": [],
   "source": [
    "def summer(num1, num2):\n",
    "    # Fullfør\n",
    "    print(res)\n",
    "    \n",
    "def minus(num1, num2):\n",
    "    res = num1 - num2\n",
    "    # Fullfør\n",
    "    \n",
    "def gange(): # Fullfør\n",
    "    res = num1 * num2\n",
    "    print(res)\n",
    "    \n",
    "# Skriv funksjon for deling her\n",
    "# Fullfør\n"
   ]
  },
  {
   "cell_type": "markdown",
   "metadata": {},
   "source": [
    "### Testprogram for kalkulatoren over"
   ]
  },
  {
   "cell_type": "code",
   "execution_count": null,
   "metadata": {},
   "outputs": [],
   "source": [
    "print(\"\\nForventet resultat: 40\")\n",
    "print(\"Faktisk resultat:\", summer(10, 30))\n",
    "\n",
    "print(\"\\nForventet resultat: 30\")\n",
    "print(\"Faktisk resultat:\", minus(40, 10))\n",
    "\n",
    "print(\"\\nForventet resultat: 25\")\n",
    "print(\"Faktisk resultat:\", gange(5, 5))\n",
    "\n",
    "print(\"\\nForventet resultat: 1\")\n",
    "print(\"Faktisk resultat:\", dele(10, 10))"
   ]
  },
  {
   "cell_type": "markdown",
   "metadata": {},
   "source": [
    "### Oppgave 3"
   ]
  },
  {
   "cell_type": "markdown",
   "metadata": {},
   "source": [
    "Hva er hovedforskjellen på funksjonstypene brukt i \"Kodebit 1\" og \"Kodebit 2\" under?"
   ]
  },
  {
   "cell_type": "code",
   "execution_count": null,
   "metadata": {},
   "outputs": [],
   "source": [
    "# Kodebit 1\n",
    "def skriv_ut():\n",
    "    return ('Her er en tekst fra kodebit 1')\n",
    "\n",
    "tekst = skriv_ut()\n",
    "print(tekst)\n",
    "    \n",
    "# Kodebit 2\n",
    "def skriv_ut():\n",
    "    print('Her er en tekst fra kodebit 2')\n",
    "    \n",
    "skriv_ut()"
   ]
  },
  {
   "cell_type": "markdown",
   "metadata": {},
   "source": [
    "### Oppgave 4"
   ]
  },
  {
   "cell_type": "markdown",
   "metadata": {},
   "source": [
    "### Temperaturkommentator\n",
    "\n",
    "1. Lag en funksjon som konverterer temperatur fra Fahrenheit til Celsius: $T_C = \\frac{5}{9} (T_F - 32)$, og bruk funksjonen til å konvertere en variabel du har definert i selve programmet. \n",
    "\n",
    "2. Modifiser programmet slik at det tar input fra brukeren. \n",
    "\n",
    "3. Endre funksjonen slik at den samtidig som den konverterer, også velger å si noe om temperaturen. \n",
    "\n",
    "> Dette er en oppgave som er ment som mengdetrening på å lage en vanlig funksjon, og for å minne på at man kan gjøre beslutninger (if-tester) inni en funksjon. Dessuten viser den veldig tydelig at funksjoner i programmering er annerledes enn funksjoner i matematikken.\n",
    "\n",
    "> Denne oppgaven kan også løses i spyder"
   ]
  },
  {
   "cell_type": "code",
   "execution_count": null,
   "metadata": {},
   "outputs": [],
   "source": []
  },
  {
   "cell_type": "markdown",
   "metadata": {},
   "source": [
    "### Oppgave 5"
   ]
  },
  {
   "cell_type": "markdown",
   "metadata": {},
   "source": [
    "### Eggkoking på fjellet\n",
    "\n",
    "1. Lag en funksjon som regner ut kokepunktet til vann i en gitt høyde over havet: Vi velger en forenklet modell: $T_C = 100 - 0,0032 h$, der $h$ oppgis i meter, og temperaturen kommer ut i celsius. Sjekk at funksjonen returnerer riktig verdi ved havnivå (100 C) og på Mount Everest (ca. 72 C). \n",
    "\n",
    "2. Vi skal nå koke egg. Tiden $t$ i minutter det tar å oppnå en plommetemperatur på $T_{plomme}$ kan modelleres som:\n",
    "$$t = A\\ln\\left[ \\frac{2(T_{vann}-T_0)}{T_{vann}-T_{plomme}}\\right] $$\n",
    "der $A$ er en konstant som kommer an på egget, $T_{vann}$ er vanntemperaturen i kjelen (typisk kokepunktet), $T_0$ er temperaturen i egget før det går i gryta og $T_{plomme}$ er temperaturen vi ønsker i plommen. For et vanlig egg er $$A=3,75$$ minutter en fornuftig verdi. Lag en funksjon som implementerer denne modellen, og sjekk at den gir rimelige resultater for bløtkokt (65 C) og hardkokt (85 C) egg. \n",
    "\n",
    "3. Endre funksjonen fra 2) slik at den tar inn høyde over havet og bruker funksjonen fra 1) til å regne ut temperaturen i vannet. Hva skjer om man ber om et hardkokt egg på Mount Everest? Kan du endre programmet slik at det oppfører seg penere?\n",
    "\n",
    "4. (Krever at du kan plotte) Plot tiden det tar å koke egg som fuksjon av hvor varm man ønsker plommen. Plott flere linjer, der hver linje representerer en gitt høyde over havet. \n",
    "\n",
    "> I denne oppgaven ønsker vi å trene på å lage funksjoner. Både funksjoner som tar *ett* argument, og funksjoner som tar flere argumenter. I tillegg åpner denne oppgaven for å lage en fusjon som kaller på en annen funksjon. Det er et viktig konseptuelt steg å innse at man kan gjenbruke sine egne funksjoner inni nye fuksjoner. Da kan man i prinsippet lage hva som helst. \n",
    "\n",
    "> I denne oppgaven er tiden det tar å koke egg en løsning av varmeligningen, og denne løningen ligger nok over R2/Fysikk 2-nivå. Det man imidlertid kan gjøre her er å se på hva som skjer når kan ender med å få et negativt tall inn til logaritmen. Hva er den fysiske grunnen til at det ikke bør gå bra, og hva er den matematiske grunnen?\n",
    "\n",
    "> I pakken pylab skrives den naturlige logaritmen $ln$ som $log()$, og $log_{10}$ som $log10()$"
   ]
  },
  {
   "cell_type": "code",
   "execution_count": null,
   "metadata": {},
   "outputs": [],
   "source": [
    "from pylab import *\n",
    "\n",
    "#Skriv programmet ditt her"
   ]
  },
  {
   "cell_type": "markdown",
   "metadata": {},
   "source": [
    "# Plotting"
   ]
  },
  {
   "cell_type": "markdown",
   "metadata": {},
   "source": [
    "Under er et eksempel på et plott av $sin(t)$ og $cos(t)$."
   ]
  },
  {
   "cell_type": "code",
   "execution_count": 31,
   "metadata": {
    "scrolled": true
   },
   "outputs": [
    {
     "data": {
      "image/png": "[encoded data removed]",
      "text/plain": [
       "<Figure size 432x288 with 1 Axes>"
      ]
     },
     "metadata": {},
     "output_type": "display_data"
    }
   ],
   "source": [
    "from pylab import *\n",
    "\n",
    "t = linspace(0,2*pi,1000)\n",
    "\n",
    "plot(t,sin(t),'-b', label='sin(t)') \n",
    "plot(t,cos(t),'-r', label='cos(t)')\n",
    "\n",
    "grid()\n",
    "legend(loc='lower right')\n",
    "xlabel(\"tid\")\n",
    "ylabel(\"amplitude\")\n",
    "\n",
    "\n",
    "show()"
   ]
  },
  {
   "cell_type": "markdown",
   "metadata": {},
   "source": [
    "## Oppgave 1\n",
    "\n",
    "(a) Plot $e^x$ for $x∈[0,2]$.  \n",
    "(b) Lag et plot, der du viser de tre funksjonene:\n",
    "ex , e−x , 1/x.\n",
    "for x ∈ [0,2]. Her må du bruke axis-kommandoen for å velge rimelige\n",
    "akser på figuren din!  \n",
    "(c) Pynt på plottet du nettopp lagde ved hjelp av funksjonene axis, xlabel,\n",
    "legend, title og grid.  \n",
    "\n",
    "> ``axis([0, 10, 0, 20])`` brukes for å sette grenseverdier på plottet. "
   ]
  },
  {
   "cell_type": "markdown",
   "metadata": {},
   "source": [
    "## Utfordringer"
   ]
  },
  {
   "cell_type": "markdown",
   "metadata": {},
   "source": [
    "### Primtall\n",
    "Skriv en funksjon som tar et heltall som input, og finner ut om det er et primtall eller ikke?\n",
    "\n",
    "### Fibonacci\n",
    "Skriv et program som regner ut og skriver ut Fibonacci-tallene?\n"
   ]
  },
  {
   "cell_type": "code",
   "execution_count": null,
   "metadata": {},
   "outputs": [],
   "source": []
  }
 ],
 "metadata": {
  "kernelspec": {
   "display_name": "Python 3",
   "language": "python",
   "name": "python3"
  },
  "language_info": {
   "codemirror_mode": {
    "name": "ipython",
    "version": 3
   },
   "file_extension": ".py",
   "mimetype": "text/x-python",
   "name": "python",
   "nbconvert_exporter": "python",
   "pygments_lexer": "ipython3",
   "version": "3.6.5"
  }
 },
 "nbformat": 4,
 "nbformat_minor": 2
}
